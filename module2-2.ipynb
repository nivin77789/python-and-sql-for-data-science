{
 "cells": [
  {
   "cell_type": "code",
   "execution_count": 1,
   "metadata": {},
   "outputs": [
    {
     "name": "stdout",
     "output_type": "stream",
     "text": [
      "(1, 2, 3)\n"
     ]
    }
   ],
   "source": [
    "#tuple\n",
    "t=(1,2,3)\n",
    "print(t)"
   ]
  },
  {
   "cell_type": "code",
   "execution_count": 3,
   "metadata": {},
   "outputs": [
    {
     "name": "stdout",
     "output_type": "stream",
     "text": [
      "(1, (2, 3, 4), [9, 3, 'nivin'])\n",
      "nivin\n"
     ]
    }
   ],
   "source": [
    "#nested tuple\n",
    "t=(1,(2,3,4),[9,3,\"nivin\"])\n",
    "print(t)\n",
    "print(t[2][2])"
   ]
  },
  {
   "cell_type": "code",
   "execution_count": 5,
   "metadata": {},
   "outputs": [
    {
     "name": "stdout",
     "output_type": "stream",
     "text": [
      "(1, 2, 3)\n"
     ]
    }
   ],
   "source": [
    "#delete\n",
    "tc=(1,2,3)\n",
    "print(tc)\n",
    "del tc"
   ]
  },
  {
   "cell_type": "code",
   "execution_count": 6,
   "metadata": {},
   "outputs": [
    {
     "name": "stdout",
     "output_type": "stream",
     "text": [
      "2\n",
      "3\n",
      "1\n",
      "6\n"
     ]
    }
   ],
   "source": [
    "#pre defined functions\n",
    "t=(1,2,3)\n",
    "print(t.index(3))\n",
    "print(max(t))\n",
    "print(min(t))\n",
    "print(sum(t))\n",
    "\n"
   ]
  },
  {
   "cell_type": "markdown",
   "metadata": {},
   "source": [
    "sets"
   ]
  },
  {
   "cell_type": "code",
   "execution_count": 7,
   "metadata": {},
   "outputs": [
    {
     "name": "stdout",
     "output_type": "stream",
     "text": [
      "{1, 2, 3, 4}\n"
     ]
    }
   ],
   "source": [
    "#set\n",
    "s={1,2,3,4,1,2}\n",
    "print(s)\n",
    "#it will not print duplicate values\n"
   ]
  },
  {
   "cell_type": "code",
   "execution_count": 11,
   "metadata": {},
   "outputs": [
    {
     "name": "stdout",
     "output_type": "stream",
     "text": [
      "{1, 'nivin', 2, 4}\n",
      "{1, 2, 4, 5, 6, 8, 'ni', 'nivin'}\n"
     ]
    }
   ],
   "source": [
    "#add \n",
    "s={1,4,'nivin'}\n",
    "s.add(2)\n",
    "print(s)\n",
    "s.update([5,8,6],{8,'ni'})\n",
    "print(s)"
   ]
  },
  {
   "cell_type": "code",
   "execution_count": 12,
   "metadata": {},
   "outputs": [
    {
     "name": "stdout",
     "output_type": "stream",
     "text": [
      "{1, 2, 3, 'nivin'}\n",
      "{1, 3, 'nivin'}\n",
      "1\n",
      "{3, 'nivin'}\n",
      "None\n"
     ]
    }
   ],
   "source": [
    "#remove set \n",
    "s={1,2,3,4,'nivin'}\n",
    "s.discard(4)\n",
    "print(s)\n",
    "s.remove(2)\n",
    "print(s)\n",
    "a=s.pop()\n",
    "print(a)\n",
    "print(s)\n",
    "print(s.clear())"
   ]
  },
  {
   "cell_type": "code",
   "execution_count": 15,
   "metadata": {},
   "outputs": [
    {
     "name": "stdout",
     "output_type": "stream",
     "text": [
      "{1, 2, 3, 4, 5, 6, 'nulsir', 'nivin', 'nul'}\n",
      "{1, 2, 'nivin'}\n",
      "{3, 4, 'nul'}\n",
      "{3, 4, 5, 6, 'nulsir', 'nul'}\n",
      "alternative\n",
      "{1, 2, 3, 4, 5, 6, 'nulsir', 'nivin', 'nul'}\n",
      "{1, 2, 'nivin'}\n",
      "{3, 4, 'nul'}\n",
      "{3, 4, 5, 6, 'nulsir', 'nul'}\n"
     ]
    }
   ],
   "source": [
    "#set operations\n",
    "s1={1,2,3,4,'nivin','nul'}\n",
    "s2={1,2,6,5,'nivin','nulsir'}\n",
    "print(s1 | s2)\n",
    "print(s1 & s2)\n",
    "print(s1 - s2)\n",
    "print(s1 ^ s2)\n",
    "\n",
    "#alternative\n",
    "print(\"alternative\")\n",
    "print(s1.union(s2))\n",
    "print(s1.intersection(s2))\n",
    "print(s1.difference(s2))\n",
    "print(s1.symmetric_difference(s2))"
   ]
  }
 ],
 "metadata": {
  "kernelspec": {
   "display_name": "Python 3",
   "language": "python",
   "name": "python3"
  },
  "language_info": {
   "codemirror_mode": {
    "name": "ipython",
    "version": 3
   },
   "file_extension": ".py",
   "mimetype": "text/x-python",
   "name": "python",
   "nbconvert_exporter": "python",
   "pygments_lexer": "ipython3",
   "version": "3.11.4"
  },
  "orig_nbformat": 4
 },
 "nbformat": 4,
 "nbformat_minor": 2
}

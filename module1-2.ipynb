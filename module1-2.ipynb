{
 "cells": [
  {
   "cell_type": "code",
   "execution_count": 5,
   "metadata": {},
   "outputs": [
    {
     "name": "stdout",
     "output_type": "stream",
     "text": [
      "the sum of 1 and 2 is 12\n"
     ]
    }
   ],
   "source": [
    "#python input and output\n",
    "a=input(\"Enter the value of a \")\n",
    "b=input(\"Enter the value of b \")\n",
    "sum=a+b\n",
    "print(\"the sum of {} and {} is {}\".format(a,b,sum))"
   ]
  },
  {
   "cell_type": "markdown",
   "metadata": {},
   "source": [
    "control flow or conditional statement"
   ]
  },
  {
   "cell_type": "code",
   "execution_count": 6,
   "metadata": {},
   "outputs": [
    {
     "name": "stdout",
     "output_type": "stream",
     "text": [
      "negative\n"
     ]
    }
   ],
   "source": [
    "#if else\n",
    "num=-12\n",
    "if num>0:\n",
    "    print(\"positive\")\n",
    "else :\n",
    "    print(\"negative\")    "
   ]
  },
  {
   "cell_type": "code",
   "execution_count": 9,
   "metadata": {},
   "outputs": [
    {
     "name": "stdout",
     "output_type": "stream",
     "text": [
      "zeero\n"
     ]
    }
   ],
   "source": [
    "#elif\n",
    "num=0\n",
    "if num>0:\n",
    "    print(\"positive\")\n",
    "elif num<0:\n",
    "    print(\"negative\")\n",
    "else :\n",
    "    print(\"zero\")        \n"
   ]
  },
  {
   "cell_type": "code",
   "execution_count": 12,
   "metadata": {},
   "outputs": [
    {
     "name": "stdout",
     "output_type": "stream",
     "text": [
      "positive\n"
     ]
    }
   ],
   "source": [
    "#conditional statement with ligical commparison\n",
    "num=-10\n",
    "n=90\n",
    "if (n>0) or (num>0):\n",
    "    print(\"positive\")\n",
    "else :\n",
    "    print(\"negative\")    "
   ]
  },
  {
   "cell_type": "markdown",
   "metadata": {},
   "source": [
    "looping statements"
   ]
  },
  {
   "cell_type": "code",
   "execution_count": 13,
   "metadata": {},
   "outputs": [
    {
     "name": "stdout",
     "output_type": "stream",
     "text": [
      "0\n",
      "1\n",
      "2\n",
      "3\n"
     ]
    }
   ],
   "source": [
    "#while loop\n",
    "n=3\n",
    "a=0\n",
    "while n>=a :\n",
    "    print(a)\n",
    "    a+=1"
   ]
  },
  {
   "cell_type": "code",
   "execution_count": 14,
   "metadata": {},
   "outputs": [
    {
     "name": "stdout",
     "output_type": "stream",
     "text": [
      "1\n",
      "2\n",
      "3\n",
      "4\n",
      "loop completed\n"
     ]
    }
   ],
   "source": [
    "#while else\n",
    "index=0\n",
    "n=[1,2,3,4]\n",
    "while index<len(n) :\n",
    "    print(n[index])\n",
    "    index+=1\n",
    "else :\n",
    "    print(\"loop completed\")    "
   ]
  },
  {
   "cell_type": "code",
   "execution_count": 22,
   "metadata": {},
   "outputs": [
    {
     "name": "stdout",
     "output_type": "stream",
     "text": [
      "10\n",
      "20\n",
      "30\n",
      "40\n",
      "0\n",
      "2\n",
      "4\n",
      "6\n",
      "8\n",
      "12\n",
      "14\n",
      "16\n",
      "18\n",
      "2 multiplication below\n"
     ]
    }
   ],
   "source": [
    "#for loop with break and continue\n",
    "list=[9,19,29,39,49,59]\n",
    "for ele in list :\n",
    "    ele+=1\n",
    "    if(ele>40):\n",
    "        break\n",
    "    print(ele)\n",
    "#for(i=0; i<20; i+=2) with else\n",
    "for i in range(0,20,2):\n",
    "    if(i==10):\n",
    "        continue\n",
    "    print(i) \n",
    "else :\n",
    "    print(\"2 multiplication below\")    \n",
    "    "
   ]
  }
 ],
 "metadata": {
  "kernelspec": {
   "display_name": "Python 3",
   "language": "python",
   "name": "python3"
  },
  "language_info": {
   "codemirror_mode": {
    "name": "ipython",
    "version": 3
   },
   "file_extension": ".py",
   "mimetype": "text/x-python",
   "name": "python",
   "nbconvert_exporter": "python",
   "pygments_lexer": "ipython3",
   "version": "3.11.4"
  },
  "orig_nbformat": 4
 },
 "nbformat": 4,
 "nbformat_minor": 2
}

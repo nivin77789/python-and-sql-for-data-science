{
 "cells": [
  {
   "cell_type": "code",
   "execution_count": 5,
   "metadata": {},
   "outputs": [
    {
     "name": "stdout",
     "output_type": "stream",
     "text": [
      "the sum of 1 and 2 is 12\n"
     ]
    }
   ],
   "source": [
    "#python input and output\n",
    "a=input(\"Enter the value of a \")\n",
    "b=input(\"Enter the value of b \")\n",
    "sum=a+b\n",
    "print(\"the sum of {} and {} is {}\".format(a,b,sum))"
   ]
  },
  {
   "cell_type": "markdown",
   "metadata": {},
   "source": [
    "control flow or conditional statement"
   ]
  },
  {
   "cell_type": "code",
   "execution_count": 6,
   "metadata": {},
   "outputs": [
    {
     "name": "stdout",
     "output_type": "stream",
     "text": [
      "negative\n"
     ]
    }
   ],
   "source": [
    "#if else\n",
    "num=-12\n",
    "if num>0:\n",
    "    print(\"positive\")\n",
    "else :\n",
    "    print(\"negative\")    "
   ]
  },
  {
   "cell_type": "code",
   "execution_count": 9,
   "metadata": {},
   "outputs": [
    {
     "name": "stdout",
     "output_type": "stream",
     "text": [
      "zeero\n"
     ]
    }
   ],
   "source": [
    "#elif\n",
    "num=0\n",
    "if num>0:\n",
    "    print(\"positive\")\n",
    "elif num<0:\n",
    "    print(\"negative\")\n",
    "else :\n",
    "    print(\"zero\")        \n"
   ]
  }
 ],
 "metadata": {
  "kernelspec": {
   "display_name": "Python 3",
   "language": "python",
   "name": "python3"
  },
  "language_info": {
   "codemirror_mode": {
    "name": "ipython",
    "version": 3
   },
   "file_extension": ".py",
   "mimetype": "text/x-python",
   "name": "python",
   "nbconvert_exporter": "python",
   "pygments_lexer": "ipython3",
   "version": "3.11.4"
  },
  "orig_nbformat": 4
 },
 "nbformat": 4,
 "nbformat_minor": 2
}

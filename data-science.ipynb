{
 "cells": [
  {
   "cell_type": "markdown",
   "metadata": {},
   "source": [
    "Module 1"
   ]
  },
  {
   "cell_type": "code",
   "execution_count": null,
   "metadata": {},
   "outputs": [],
   "source": [
    "a=10\n",
    "b=3.5\n",
    "c=\"nivin\"\n",
    "\n",
    "print(a,\" is a \",type(a))\n",
    "print(b,\" is a \",type(b))\n",
    "print(c,\" is a \",type(c))\n",
    "\n",
    "#check wether the datatype is true or false\n",
    "\n",
    "print(isinstance(a,int))\n"
   ]
  },
  {
   "cell_type": "code",
   "execution_count": null,
   "metadata": {},
   "outputs": [],
   "source": [
    "#python list\n",
    "\n",
    "a=[10,3.5, \"nivin\"]\n",
    "print(a)\n",
    "\n",
    "print(a[2])"
   ]
  },
  {
   "cell_type": "code",
   "execution_count": null,
   "metadata": {},
   "outputs": [],
   "source": [
    "#python set\n",
    "a={10,10,20,30,40,20,60}\n",
    "#it only prints uniqe values in an un orderd way\n",
    "\n",
    "print(a)"
   ]
  },
  {
   "cell_type": "code",
   "execution_count": null,
   "metadata": {},
   "outputs": [],
   "source": [
    "#python Dictionary\n",
    "a={'a':10, 'b':3.5, 'c':\"nivin\"}\n",
    "print(a)\n",
    "print(a['b'])"
   ]
  },
  {
   "cell_type": "code",
   "execution_count": null,
   "metadata": {},
   "outputs": [],
   "source": [
    "#type convertion in python\n",
    "a=10\n",
    "b=3.5\n",
    "print(float(a))\n",
    "print(int(b))"
   ]
  }
 ],
 "metadata": {
  "kernelspec": {
   "display_name": "Python 3",
   "language": "python",
   "name": "python3"
  },
  "language_info": {
   "codemirror_mode": {
    "name": "ipython",
    "version": 3
   },
   "file_extension": ".py",
   "mimetype": "text/x-python",
   "name": "python",
   "nbconvert_exporter": "python",
   "pygments_lexer": "ipython3",
   "version": "3.11.4"
  },
  "orig_nbformat": 4
 },
 "nbformat": 4,
 "nbformat_minor": 2
}

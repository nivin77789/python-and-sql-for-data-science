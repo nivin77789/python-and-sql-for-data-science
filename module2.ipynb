{
 "cells": [
  {
   "cell_type": "markdown",
   "metadata": {},
   "source": [
    "List"
   ]
  },
  {
   "cell_type": "code",
   "execution_count": 1,
   "metadata": {},
   "outputs": [
    {
     "name": "stdout",
     "output_type": "stream",
     "text": [
      "append\n",
      "[1, 2, 3.5, 'ramesh', 'vinay']\n",
      "add\n",
      "[1, 2, 3.5, 'ramesh', 'vinay', 'nivin', 'jeourge', 12]\n",
      "insert\n",
      "[1, 1.5, 2, 3.5, 'ramesh', 'vinay']\n"
     ]
    }
   ],
   "source": [
    "##insertion into list\n",
    "l1=[1,2,3.5,\"ramesh\"]\n",
    "l2=[\"nivin\",\"jeourge\",12]\n",
    "l1.append(\"vinay\")\n",
    "\n",
    "print(\"append\")\n",
    "print(l1)\n",
    "print(\"add\")\n",
    "print(l1+l2)\n",
    "print(\"insert\")\n",
    "l1.insert(1,1.5)\n",
    "print(l1)"
   ]
  },
  {
   "cell_type": "code",
   "execution_count": 3,
   "metadata": {},
   "outputs": [
    {
     "name": "stdout",
     "output_type": "stream",
     "text": [
      "[1, 3.5, 'ramesh']\n",
      "ramesh\n",
      "[1, 3.5]\n"
     ]
    }
   ],
   "source": [
    "#delete\n",
    "l1=[1,2,3.5,\"ramesh\"]\n",
    "l1.remove(2)\n",
    "print(l1)\n",
    "#pop\n",
    "a=l1.pop(2)\n",
    "print(a)\n",
    "print(l1)"
   ]
  },
  {
   "cell_type": "code",
   "execution_count": 9,
   "metadata": {},
   "outputs": [
    {
     "name": "stdout",
     "output_type": "stream",
     "text": [
      "is there\n",
      "is there\n"
     ]
    }
   ],
   "source": [
    "#list related operations using conditional statment\n",
    "l1=[1,2,3.5,\"ramesh\"]\n",
    "if 3.5 in l1:\n",
    "    print(\"is there\")\n",
    "else :\n",
    "    print(\"not there\")    \n",
    "    \n",
    "    \n",
    "    \n",
    "if 1 not in l1:\n",
    "    print(\"not there\")\n",
    "else :\n",
    "    print(\"is there\")       "
   ]
  },
  {
   "cell_type": "code",
   "execution_count": 14,
   "metadata": {},
   "outputs": [
    {
     "name": "stdout",
     "output_type": "stream",
     "text": [
      "[434, 45, 415, 4, 94, 78, 56, 23, 12]\n"
     ]
    }
   ],
   "source": [
    "#reverse a list\n",
    "list=[12,23,56,78,94,4,415,45,434]\n",
    "list.reverse()\n",
    "print(list)"
   ]
  },
  {
   "cell_type": "code",
   "execution_count": 21,
   "metadata": {},
   "outputs": [
    {
     "name": "stdout",
     "output_type": "stream",
     "text": [
      "[4, 12, 23, 45, 56, 78, 94, 415, 434]\n",
      "[434, 415, 94, 78, 56, 45, 23, 12, 4]\n"
     ]
    }
   ],
   "source": [
    "#sort\n",
    "list=[12,23,56,78,94,4,415,45,434]\n",
    "list.sort()\n",
    "# alternate way\n",
    "a=sorted(list)\n",
    "print(a)\n",
    "#sort reverse\n",
    "b=sorted(list,reverse=True)\n",
    "print(b)\n",
    "\n",
    "\n"
   ]
  },
  {
   "cell_type": "code",
   "execution_count": 30,
   "metadata": {},
   "outputs": [
    {
     "name": "stdout",
     "output_type": "stream",
     "text": [
      "['poda', 'patide', 'nayi', 'mowne']\n",
      "['poda', 'patide']\n",
      "[4, 23, 56, 94, 434] prints alternate elements\n",
      "[12, 45, 78, 415] Prints alternate no starting fron the location 1\n"
     ]
    }
   ],
   "source": [
    "#string split\n",
    "s=\"poda patide nayi mowne\"\n",
    "a=s.split()\n",
    "print(a)\n",
    "print(a[0:2])\n",
    "print(list[::2],\"prints alternate elements\")\n",
    "print(list[1::2],\"Prints alternate no starting fron the location 1\")"
   ]
  },
  {
   "cell_type": "code",
   "execution_count": 31,
   "metadata": {},
   "outputs": [
    {
     "name": "stdout",
     "output_type": "stream",
     "text": [
      "1 it shows how many thimes the element 23 is present in the list\n"
     ]
    }
   ],
   "source": [
    "#list count \n",
    "print(list.count(23),\"it shows how many thimes the element 23 is present in the list\")"
   ]
  },
  {
   "cell_type": "code",
   "execution_count": 32,
   "metadata": {},
   "outputs": [
    {
     "name": "stdout",
     "output_type": "stream",
     "text": [
      "4\n",
      "12\n",
      "23\n",
      "45\n",
      "56\n",
      "78\n",
      "94\n",
      "415\n",
      "434\n"
     ]
    }
   ],
   "source": [
    "#list loop\n",
    "for ele in list:\n",
    "    print(ele)"
   ]
  },
  {
   "cell_type": "code",
   "execution_count": 35,
   "metadata": {},
   "outputs": [
    {
     "name": "stdout",
     "output_type": "stream",
     "text": [
      "[0, 1, 4, 9, 16, 25, 36, 49, 64, 81]\n",
      "[45, 56, 78, 94, 415, 434]\n"
     ]
    }
   ],
   "source": [
    "#list comprehension\n",
    "square=[i**2 for i in range(10)]\n",
    "print(square)\n",
    "new_list=[i for i in list if i>40]\n",
    "print(new_list)"
   ]
  },
  {
   "cell_type": "code",
   "execution_count": 37,
   "metadata": {},
   "outputs": [
    {
     "name": "stdout",
     "output_type": "stream",
     "text": [
      "it prints the square of each number from 0 to 9 [(0, 0), (1, 1), (2, 4), (3, 9), (4, 16), (5, 25), (6, 36), (7, 49), (8, 64), (9, 81)]\n"
     ]
    }
   ],
   "source": [
    "#creating list of touple\n",
    "nl=[(i,i**2) for i in range(10)]\n",
    "print(\"it prints the square of each number from 0 to 9\",nl)"
   ]
  }
 ],
 "metadata": {
  "kernelspec": {
   "display_name": "Python 3",
   "language": "python",
   "name": "python3"
  },
  "language_info": {
   "codemirror_mode": {
    "name": "ipython",
    "version": 3
   },
   "file_extension": ".py",
   "mimetype": "text/x-python",
   "name": "python",
   "nbconvert_exporter": "python",
   "pygments_lexer": "ipython3",
   "version": "3.11.4"
  },
  "orig_nbformat": 4
 },
 "nbformat": 4,
 "nbformat_minor": 2
}

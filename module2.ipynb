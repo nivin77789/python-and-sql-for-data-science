{
 "cells": [
  {
   "cell_type": "markdown",
   "metadata": {},
   "source": [
    "List"
   ]
  },
  {
   "cell_type": "code",
   "execution_count": 1,
   "metadata": {},
   "outputs": [
    {
     "name": "stdout",
     "output_type": "stream",
     "text": [
      "append\n",
      "[1, 2, 3.5, 'ramesh', 'vinay']\n",
      "add\n",
      "[1, 2, 3.5, 'ramesh', 'vinay', 'nivin', 'jeourge', 12]\n",
      "insert\n",
      "[1, 1.5, 2, 3.5, 'ramesh', 'vinay']\n"
     ]
    }
   ],
   "source": [
    "##insertion into list\n",
    "l1=[1,2,3.5,\"ramesh\"]\n",
    "l2=[\"nivin\",\"jeourge\",12]\n",
    "l1.append(\"vinay\")\n",
    "\n",
    "print(\"append\")\n",
    "print(l1)\n",
    "print(\"add\")\n",
    "print(l1+l2)\n",
    "print(\"insert\")\n",
    "l1.insert(1,1.5)\n",
    "print(l1)"
   ]
  },
  {
   "cell_type": "code",
   "execution_count": 3,
   "metadata": {},
   "outputs": [
    {
     "name": "stdout",
     "output_type": "stream",
     "text": [
      "[1, 3.5, 'ramesh']\n",
      "ramesh\n",
      "[1, 3.5]\n"
     ]
    }
   ],
   "source": [
    "#delete\n",
    "l1=[1,2,3.5,\"ramesh\"]\n",
    "l1.remove(2)\n",
    "print(l1)\n",
    "#pop\n",
    "a=l1.pop(2)\n",
    "print(a)\n",
    "print(l1)"
   ]
  }
 ],
 "metadata": {
  "kernelspec": {
   "display_name": "Python 3",
   "language": "python",
   "name": "python3"
  },
  "language_info": {
   "codemirror_mode": {
    "name": "ipython",
    "version": 3
   },
   "file_extension": ".py",
   "mimetype": "text/x-python",
   "name": "python",
   "nbconvert_exporter": "python",
   "pygments_lexer": "ipython3",
   "version": "3.11.4"
  },
  "orig_nbformat": 4
 },
 "nbformat": 4,
 "nbformat_minor": 2
}
